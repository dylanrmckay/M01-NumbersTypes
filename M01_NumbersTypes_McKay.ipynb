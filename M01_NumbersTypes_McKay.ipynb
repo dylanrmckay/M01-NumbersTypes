{
 "cells": [
  {
   "cell_type": "code",
   "execution_count": 6,
   "id": "7ae89e4e",
   "metadata": {},
   "outputs": [
    {
     "name": "stdout",
     "output_type": "stream",
     "text": [
      "3600\n",
      "86400\n",
      "24.0\n",
      "24\n"
     ]
    }
   ],
   "source": [
    "seconds_per_min = 60\n",
    "min_per_hour = 60\n",
    "seconds_per_hour = seconds_per_min * min_per_hour\n",
    "print(seconds_per_hour)\n",
    "\n",
    "seconds_per_hour * 24\n",
    "seconds_per_day = seconds_per_hour * 24\n",
    "print(seconds_per_day)\n",
    "\n",
    "print(seconds_per_day / seconds_per_hour)\n",
    "print(seconds_per_day // seconds_per_hour)"
   ]
  },
  {
   "cell_type": "code",
   "execution_count": null,
   "id": "5764af22",
   "metadata": {},
   "outputs": [],
   "source": []
  }
 ],
 "metadata": {
  "kernelspec": {
   "display_name": "Python 3 (ipykernel)",
   "language": "python",
   "name": "python3"
  },
  "language_info": {
   "codemirror_mode": {
    "name": "ipython",
    "version": 3
   },
   "file_extension": ".py",
   "mimetype": "text/x-python",
   "name": "python",
   "nbconvert_exporter": "python",
   "pygments_lexer": "ipython3",
   "version": "3.11.4"
  }
 },
 "nbformat": 4,
 "nbformat_minor": 5
}
